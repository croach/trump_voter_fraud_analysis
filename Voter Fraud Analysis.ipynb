{
 "cells": [
  {
   "cell_type": "markdown",
   "metadata": {},
   "source": [
    "# Did Illegal Voting Cost Trump the Popular Vote?\n",
    "\n",
    "Donald Trump has been insiting for quite sometime now, that the reason for his loss of the popular vote (by just a hair under 3 million votes) could be attributed to the millions of illegal votes that were cast for Hillary Clinton in this past November's election.\n",
    "\n",
    "<blockquote class=\"twitter-tweet\" data-lang=\"en\"><p lang=\"en\" dir=\"ltr\">In addition to winning the Electoral College in a landslide, I won the popular vote if you deduct the millions of people who voted illegally</p>&mdash; Donald J. Trump (@realDonaldTrump) <a href=\"https://twitter.com/realDonaldTrump/status/802972944532209664\">November 27, 2016</a></blockquote>\n",
    "\n",
    "This assertion has been quite interesting to me because I haven't heard a single source outside of the Trump administration treat this claim with even an ounce of credibility. Now, I'll just go ahead and state at the outset that I'm a moderate liberal who voted for Hilary Clinton, and being a software engineer living and working in Silicon Valley, I'm well aware of my status as a [coastal elite][coastal_elite] and the possible biases that it brings to my perspective on the world. Nevertheless, I want to be an informed citizen and not just an echo chamber, so I wanted dig into the evidence for Trump's claims along with the refutations from the experts. This article is my collection, summarization, and examination of everything that I could find around this claim, as well as a reproduction of the figures found in the two most intersting rebuttals of Trump's erroneous belief.\n",
    "\n",
    "[coastal_elite]: http://www.salon.com/2016/11/20/real-americans-vs-coastal-elites-what-right-wing-sneers-at-city-dwellers-really-mean/\n",
    "\n",
    "## The Evidence for Trump\n",
    "\n",
    "There seems to be three main sources for Trump's confusion around his loss of the popular vote. The first is a [peer reviewed paper][richman_electoral_studies] published in the journal *Electoral Studies* by Political Scientists Jesse T. Richman, Gulshan A. Chattha, and David C. Earnest. The second is a Pew Research report on the inefficiencies within our current system along with some numbers around outdated voter records. The third, and most recent, is a yet to be seen piece of analysis from [VoteStand][votestand], a company dedicated to monitoring voter fraud with a free mobile application. \n",
    "\n",
    "[richman_electoral_studies]: http://www.sciencedirect.com/science/article/pii/S0261379414000973\n",
    "[votestand]: http://www.votestand.com/\n",
    "\n",
    "### The VoteStand Analysis\n",
    "\n",
    "<blockquote class=\"twitter-tweet\" data-lang=\"en\"><p lang=\"en\" dir=\"ltr\">Look forward to seeing final results of VoteStand. Gregg Phillips and crew say at least 3,000,000 votes were illegal. We must do better!</p>&mdash; Donald J. Trump (@realDonaldTrump) <a href=\"https://twitter.com/realDonaldTrump/status/824968416486387713\">January 27, 2017</a></blockquote>\n",
    "\n",
    "I'll just go ahead and dispense with the VoteStand argument now since there's really nothing to discuss at this point. The story here is that VoteStand's founder, Gregg Phillips, made the claim shortly after the election that upwards of 3 million votes were cast illegally in favor of Clinton. To date, however, Gregg and VoteStand haven't shared any of their findings or their methodologies with the general public, so all we currently have to go on are Gregg's initial claims, and even he seems to be [hedging his bet][theantlantic] a bit now.\n",
    "\n",
    "[theantlantic]: https://www.theatlantic.com/politics/archive/2017/01/gregg-phillips-trump-voter-fraud/515046/\n",
    "\n",
    "### The Pew Research Report\n",
    "\n",
    "The other easily disputable piece of evidence is the Pew Research report. In one tweet, Trump stated that he would be calling for an investigation into voter fraud with a specific interest in voters registered in more than one state. This idea has no doubt come out of his interpretation of the Pew Research findings.\n",
    "\n",
    "<blockquote class=\"twitter-tweet\" data-lang=\"en\"><p lang=\"en\" dir=\"ltr\">I will be asking for a major investigation into VOTER FRAUD, including those registered to vote in two states, those who are illegal and....</p>&mdash; Donald J. Trump (@realDonaldTrump) <a href=\"https://twitter.com/realDonaldTrump/status/824227824903090176\">January 25, 2017</a></blockquote>\n",
    "\n",
    "Though this report found evidence of millions of invalid voter registrations (e.g., 24 million outdated records, 1.8 million deceased voters, and 2.4 million registered in multiple states), the author, David Becker, has since stated that no evidence of voter fraud was ever uncovered in the Pew Research study.\n",
    "\n",
    "<blockquote class=\"twitter-tweet\" data-lang=\"en\"><p lang=\"en\" dir=\"ltr\">We found millions of out of date registration records due to people moving or dying, but found no evidence that voter fraud resulted.</p>&mdash; David Becker (@beckerdavidj) <a href=\"https://twitter.com/beckerdavidj/status/803301967875321857\">November 28, 2016</a></blockquote>\n",
    "\n",
    "The entertaining bit about Trump looking into invalid voter registrations, such as voters regirstered in multiple states, is that amongst his own administration there are at least five members that are actively registered to vote in more than one state.\n",
    "\n",
    "<!--The really funny part here is that if having an invalid voter registration in one's name meant that the individual had voted illegally, then several members of Trump's administration would be guilty of illegal voting since at least five of his most trusted collaborators have voter registrations in multiple states.-->\n",
    "\n",
    "#### Trump Team Members Registered to Vote in Multiple States\n",
    "\n",
    "- Chief White House strategist Stephen Bannon\n",
    "- Press Secretary Sean Spicer\n",
    "- Treasury Secretary Steven Mnuchin\n",
    "- Tiffany Trump, the president's youngest daughter\n",
    "- Senior White House Advisor Jared Kushner, and Trump's son-in-law\n",
    "\n",
    "Is the argument here that people such as Stephen Bannon, Sean Spicer, and even Trump's daughter Tiffany are part of some conspiracy to illegally elect Hillary Clinton, or at least make Trump look like he has less of a mandate? Oh, and don't forget VoteStand's founder Gregg Phillips. As it turns out, he's also registered to vote in three different states [according to the Associated Press][ap_greg_phillips], so it looks like he may very well be part of the problem that Trump is aluding to as well. The point here is that, yes, we know our system isn't perfect. People move around, people die, and our voter records are not always kept up to date, but that doesn't necessarily mean that millions of people voted illegally.\n",
    "\n",
    "[ap_greg_phillips]: https://apnews.com/80497cfb5f054c9b8c9e0f8f5ca30a62\n",
    "\n",
    "### The CCES Analysis\n",
    "\n",
    "1. Describe the study, the author's claims, and how they could be used by Trump to explain his win.\n",
    "2. Explain the major flaw (aka, the study was not designed to capture non-citizen data).\n",
    "3. Go into the math behind how extrapolating to the general population is flawed with such a small subset of such as large sample.\n",
    "\n",
    "That brings us to the most interesting piece of evidence for Trump's claim of a popular vote victory this past November, a peer-reviewed paper titled \"Do non-citizens vote in U.S. elections?\". In this paper, three political scientists from Old Dominion University describe an analysis they performed on data from two large online, opt-in surveys conducted by the polling firm YouGov. The surveys were given during the 2008 presidential election and the following 2010 midterms. Though these surveys were designed to capture information from the adult *citizen* population, a small number of non-citizens did participate in the survey: 339 of 32,800 respondents in 2008 and 489 of 55,400 in 2010. The data from this small sample of non-citizen participants was used to extrapolate the numbers by which Trump professes to have won the popular vote. Specifically, the authors of the paper conclude that up to an estimated 14.7% of non-citizens could have voted in the 2008 election, and as we'll see shortly, it is this overly-optimistic estimate that Trump is drawing upon to prove his November mandate.\n",
    "\n",
    "<!--\n",
    "They also go on to argue that the most likely number of actual voters is around 6.4% of non-citizens and that this number is large enough to have given the democrats their much needed 60th vote in the senate allowing for the passing of the Affordable Care Act.\n",
    "\n",
    "Specifically, the authors concluded that as low as 2.2% and as high as 14.7% of non-citizen voters could have voted in the 2008 and 2010 elections. They also go on to argue that the most likely number of actual voters is around 6.4% of non-citizens and that this number is large enough to have given the democrats their much needed 60th vote in the senate allowing for the passing of the Affordable Care Act.\n",
    "-->\n",
    "\n",
    "There are numerous reasons that Trump's use of the authors' findings as proof of a popular vote win could be somewhat misleading, but there are three main reasons in particular that we will discuss in this article. \n",
    "\n",
    "#### Survey Design\n",
    "\n",
    "The first is, simply put, that these surveys were not designed to capture non-citizen data. As a result, using the responses of such a small, and self-selecting subset of this data to infer the behavior of the population at a national level can lead to problematic conclusions. As Michael Tesler puts it in his [Monkey Cage response][monkey_cage_2] to the paper \"the assumption that non-citizens, who volunteered to take online surveys administered in English about American politics, would somehow be representative of the entire non-citizen population seems tenuous at best.\" The simple fact of the matter is that getting good representative data through surveys is hard. It takes good hard work from some very smart people to put together a survey that reduces bias as much as possible, and using data from a survey to study the behavior of a population for which it was not designed can lead to misleading \"insights\".\n",
    "\n",
    "#### Response Error\n",
    "\n",
    "The second reason, which is closely related to the first and is, quite frankly, the most interesting to me, is response error. Response error, [according to Wikipedia][response_error], \"refers to any error introduced into the survey results due to respondents providing untrue or incorrect information.\" The thing is, there's always some response error in survey data. It could be that the participant didn't understand the question. Or, perhaps they haven't had that first cup of coffee in the morning and, in a state of caffeine-deprived grogginess, they mistakenly checked the wrong box. The simple truth of the matter is that errors such as these happen, and the larger the survey the more chances for such an error to occur. And, that brings us to the main argument of the paper [\"The Perils of Cherry Picking Low Frequency Events in Large Sample Surveys\"][perils], which states that the signficance of the findings by Richman et al., can be completely contributed to respondent error. It may seem a little far-fetched to say that we can go from millions of illegal voters handing an illegitemite win to Clinton, to basically, \"there's nothing to see here\" just because a few hundred people checked the wrong box, but this may actually be the case, and in the following sections we'll work through each of the main points made by Stephen Ansolabehere et al. in their paper.\n",
    "\n",
    "[response_error]: https://en.wikipedia.org/wiki/Respondent_error\n",
    "[perils]: http://projects.iq.harvard.edu/cces/news/perils-cherry-picking-low-frequency-events-large-sample-surveys"
   ]
  },
  {
   "cell_type": "code",
   "execution_count": 1,
   "metadata": {
    "collapsed": true
   },
   "outputs": [],
   "source": [
    "import pandas as pd\n",
    "#from IPython.display import display"
   ]
  },
  {
   "cell_type": "markdown",
   "metadata": {},
   "source": [
    "We're specifically trying to figure out the percentage of respondents that could have mistakenly marked themselves as a non-citizen and so we will want to get rid of anyone that did not answer the citizenship question in both the 2010 and 2012 surveys. The data gets a little confusing here as panel guide incorrectly labels the citizenship question as `immstat_10` and `immstat_12` for the 2010 and 2012 surveys respectively. I had to do a little digging, specifically, I had to email one of the authors of the survey, but I was able to figure out which features to use here. It turns out that the names of the features we want actually match the names from the original 2010 and 2012 non-panel surveys. So, we need to use the `V263` attribute for the 2010 citizenship question and `immstat` for the same question in 2012.\n",
    "\n",
    "<!--\n",
    "We'll first read in the panel data and get rid of anyone that did not answer the citizenship question in both the 2010 and 2012 surveys. The data gets a little confusing here as panel guide incorrectly labels the citizenship question as `immstat_10` and `immstat_12` for the 2010 and 2012 surveys respectively. I had to do a little digging, specifically, I had to email one of the authors of the survey, but I was able to figure out which features to use here. It turns out that the names of the features we want actually match the names from the original 2010 and 2012 non-panel surveys. So, we need to use the `V263` attribute for the 2010 citizenship question and `immstat` for the same question in 2012.\n",
    "-->"
   ]
  },
  {
   "cell_type": "code",
   "execution_count": 2,
   "metadata": {
    "collapsed": false
   },
   "outputs": [],
   "source": [
    "cces_panel = pd.read_stata('cces_panel.dta')\n",
    "cces_panel.dropna(subset=['V263', 'immstat'], inplace=True)"
   ]
  },
  {
   "cell_type": "code",
   "execution_count": 234,
   "metadata": {
    "collapsed": false
   },
   "outputs": [
    {
     "data": {
      "text/html": [
       "<div>\n",
       "<table border=\"1\" class=\"dataframe\">\n",
       "  <thead>\n",
       "    <tr style=\"text-align: right;\">\n",
       "      <th>Citizen 2012</th>\n",
       "      <th>False</th>\n",
       "      <th>True</th>\n",
       "    </tr>\n",
       "    <tr>\n",
       "      <th>Citizen 2010</th>\n",
       "      <th></th>\n",
       "      <th></th>\n",
       "    </tr>\n",
       "  </thead>\n",
       "  <tbody>\n",
       "    <tr>\n",
       "      <th>False</th>\n",
       "      <td>85</td>\n",
       "      <td>36</td>\n",
       "    </tr>\n",
       "    <tr>\n",
       "      <th>True</th>\n",
       "      <td>20</td>\n",
       "      <td>18737</td>\n",
       "    </tr>\n",
       "  </tbody>\n",
       "</table>\n",
       "</div>"
      ],
      "text/plain": [
       "Citizen 2012  False  True \n",
       "Citizen 2010              \n",
       "False            85     36\n",
       "True             20  18737"
      ]
     },
     "execution_count": 234,
     "metadata": {},
     "output_type": "execute_result"
    }
   ],
   "source": [
    "pd.crosstab(cces_panel.V263 != 'Immigrant non-citizen',\n",
    "            cces_panel.immstat != 'Immigrant non-citizen', \n",
    "            rownames=['Citizen 2010'], colnames=['Citizen 2012'])"
   ]
  },
  {
   "cell_type": "code",
   "execution_count": 3,
   "metadata": {
    "collapsed": true
   },
   "outputs": [],
   "source": [
    "# Citizen in 2010 and Citizen in 2012\n",
    "cc = cces_panel[(cces_panel.V263 != 'Immigrant non-citizen') & \n",
    "                (cces_panel.immstat != 'Immigrant non-citizen')]\n",
    "# Citizen in 2010 and Non-citizen in 2012\n",
    "cnc = cces_panel[(cces_panel.V263 != 'Immigrant non-citizen') & \n",
    "                 (cces_panel.immstat == 'Immigrant non-citizen')]\n",
    "# Non-citizen in 2010 and Citizen in 2012\n",
    "ncc = cces_panel[(cces_panel.V263 == 'Immigrant non-citizen') & \n",
    "                 (cces_panel.immstat != 'Immigrant non-citizen')]\n",
    "# Non-citizen in 2010 and Non-citizen in 2012\n",
    "ncnc = cces_panel[(cces_panel.V263 == 'Immigrant non-citizen') &                  \n",
    "                  (cces_panel.immstat == 'Immigrant non-citizen')]"
   ]
  },
  {
   "cell_type": "markdown",
   "metadata": {
    "variables": {
     "len(cc)": "<p><strong>NameError</strong>: name &#39;cc&#39; is not defined</p>\n",
     "len(cnc)": "<p><strong>NameError</strong>: name &#39;cnc&#39; is not defined</p>\n",
     "len(ncc)": "<p><strong>NameError</strong>: name &#39;ncc&#39; is not defined</p>\n",
     "len(ncnc)": "<p><strong>NameError</strong>: name &#39;ncnc&#39; is not defined</p>\n",
     "round(len(cc)/len(cces_panel) * 100, 2)": "<p><strong>NameError</strong>: name &#39;cc&#39; is not defined</p>\n",
     "round(len(cnc)/len(cces_panel) * 100, 2)": "<p><strong>NameError</strong>: name &#39;cnc&#39; is not defined</p>\n",
     "round(len(ncc)/len(cces_panel) * 100, 2)": "<p><strong>NameError</strong>: name &#39;ncc&#39; is not defined</p>\n",
     "round(len(ncnc)/len(cces_panel) * 100, 2)": "<p><strong>NameError</strong>: name &#39;ncnc&#39; is not defined</p>\n"
    }
   },
   "source": [
    "| Response in 2010 | Response in 2012 | Number of Respondents | Percentage                                    |\n",
    "|------------------|------------------|-----------------------|-----------------------------------------------|\n",
    "| **Citizen**      | **Citizen**      | {{len(cc)}}           | {{round(len(cc)/len(cces_panel) * 100, 2)}}   |\n",
    "| **Citizen**      | **Non-citizen**  | {{len(cnc)}}          | {{round(len(cnc)/len(cces_panel) * 100, 2)}}  |\n",
    "| **Non-citizen**  | **Citizen**      | {{len(ncc)}}          | {{round(len(ncc)/len(cces_panel) * 100, 2)}}  |\n",
    "| **Non-citizen**  | **Non-citizen**  | {{len(ncnc)}}         | {{round(len(ncnc)/len(cces_panel) * 100, 2)}} |"
   ]
  },
  {
   "cell_type": "markdown",
   "metadata": {
    "collapsed": true
   },
   "source": [
    "Calculate the percentage of validated voters..."
   ]
  },
  {
   "cell_type": "code",
   "execution_count": 247,
   "metadata": {
    "collapsed": true
   },
   "outputs": [],
   "source": [
    "voted = ['Absentee', 'Early', 'Mail', 'Voted unknown method'] #, 'Confirmed Non-voter', 'Unmatched']"
   ]
  },
  {
   "cell_type": "markdown",
   "metadata": {},
   "source": [
    "The values for the validated voter 2010/12 fields are categorical, so we can simply rely on their order to "
   ]
  },
  {
   "cell_type": "markdown",
   "metadata": {},
   "source": [
    "Using the data from the CCES 2010-2012 panel survey the researchers develop an argument for why the numbers pulled from Richman's paper are largely due to response bias. This argument is given in 3 parts: \n",
    "\n",
    "1. The citizenship classification has a reliability rate of 99.9%\n",
    "2. The validated voting rate amongst citizens in the panel survey is 70%\n",
    "3. The panel shows that the respondents identified as non-citizen voters in Richman's paper were actually misclassified."
   ]
  },
  {
   "cell_type": "code",
   "execution_count": 261,
   "metadata": {
    "collapsed": false
   },
   "outputs": [
    {
     "name": "stdout",
     "output_type": "stream",
     "text": [
      "Validated Voting Rate Amongst Citizens 71.2%\n"
     ]
    }
   ],
   "source": [
    "vvr = sum(cc.VV_2010_gen.isin(voted))/len(cc)\n",
    "print(\"Validated Voting Rate Amongst Citizens %2.1f%%\" % (vvr * 100))"
   ]
  },
  {
   "cell_type": "code",
   "execution_count": 262,
   "metadata": {
    "collapsed": false
   },
   "outputs": [
    {
     "name": "stdout",
     "output_type": "stream",
     "text": [
      "Validated Voting Rate Amongst Citizen - Non-citizens 15.0%\n"
     ]
    }
   ],
   "source": [
    "vvr = sum(cnc.VV_2010_gen.isin(voted))/len(cnc)\n",
    "print(\"Validated Voting Rate Amongst Citizen - Non-citizens %2.1f%%\" % (vvr * 100))"
   ]
  },
  {
   "cell_type": "code",
   "execution_count": 263,
   "metadata": {
    "collapsed": false
   },
   "outputs": [
    {
     "name": "stdout",
     "output_type": "stream",
     "text": [
      "Validated Voting Rate Amongst Non-citizens - Citizens 2.8%\n"
     ]
    }
   ],
   "source": [
    "vvr = sum(ncc.VV_2010_gen.isin(voted))/len(ncc)\n",
    "print(\"Validated Voting Rate Amongst Non-citizens - Citizens %2.1f%%\" % (vvr * 100))"
   ]
  },
  {
   "cell_type": "code",
   "execution_count": 264,
   "metadata": {
    "collapsed": false
   },
   "outputs": [
    {
     "name": "stdout",
     "output_type": "stream",
     "text": [
      "Validated Voting Rate Amongst Non-citizens 0.0%\n"
     ]
    }
   ],
   "source": [
    "vvr = sum(ncnc.VV_2010_gen.isin(voted))/len(ncnc)\n",
    "print(\"Validated Voting Rate Amongst Non-citizens %2.1f%%\" % (vvr * 100))"
   ]
  },
  {
   "cell_type": "markdown",
   "metadata": {},
   "source": [
    "Essentially, this problem doesn't exist with small samples simply because the margin of error ends up completely eclipsing any statistics that we try to extrapolate to the general propulation.\n",
    "\n",
    "**Explanation**\n",
    "The Margin of Error is basically the standard error multiplied by the critical value (i.e., the z-score) for the given confidence level desired."
   ]
  },
  {
   "cell_type": "code",
   "execution_count": 81,
   "metadata": {
    "collapsed": false
   },
   "outputs": [
    {
     "name": "stdout",
     "output_type": "stream",
     "text": [
      "0.17963696724226894\n",
      "0.179636856126579\n"
     ]
    }
   ],
   "source": [
    "import math\n",
    "p = 0.3\n",
    "z = 1.96\n",
    "N = 19400000\n",
    "n = 25\n",
    "me = 0.25\n",
    "print(z * math.sqrt(p * (1 - p)/n))\n",
    "# # d1 = z**2 * p * (1 - p)\n",
    "# # d2 = d1 * (N - n)/(n * (N - 1))\n",
    "moe = z * math.sqrt(p * (1 - p) * (N - n)/(n * (N - 1)))\n",
    "#moe = z * math.sqrt((p * (1 - p))/(n))\n",
    "print(moe)"
   ]
  },
  {
   "cell_type": "code",
   "execution_count": 8,
   "metadata": {
    "collapsed": false
   },
   "outputs": [
    {
     "name": "stdout",
     "output_type": "stream",
     "text": [
      "0.038416\n"
     ]
    }
   ],
   "source": [
    "print(z**2 * (p * (1-p))/25)"
   ]
  },
  {
   "cell_type": "markdown",
   "metadata": {},
   "source": [
    "#### Bad Math and Misinterpretation\n",
    "\n",
    "The third reason is that Trump has either misinterpreted, or just simply hasn't read the paper in question. If he had, then he would've noticed that the 14.7% that he needs for a win is unrealistic even in the eyes of the researchers. In fact, the authors mention in the paper (emphasis mine) that by \"taking the **least conservative measure**---at least one indicator showed that the respondent voted---yields an estimate that **between 7.9% and 14.7%** percent of non-citizens voted in 2008.\" Therefore, even by taking the most opportunistic view (from Trump's point of view) of the data would yield the numbers needed for a Trump victory only on the very high end, and on the low end of the estimate, Trump still loses to Clinton with a 1.8 million vote deficit.\n",
    "\n",
    "\n",
    "<!--\n",
    "The authors concluded that \n",
    "\n",
    "The author originally spoke about his findings in an blog post that he and fellow Old Dominion researcher, David Earnest, published in the Washington Post's political blog, the Monkey Cage. In [this post][monkey_cage_1], Richman claimed that out of the 14% of registered non-citizen voters, 6.4 percent actually voted in the 2008 election, and 2.2% voted in the 2010 mid-term elections.\n",
    "\n",
    "That brings us to the most interesting piece of evidence for Trump's claim that he actually won the popular vote, a peer-reviewed paper titled \"Do non-citizens vote in U.S. elections?\". The three political scientists from Old Dominion University that conducted this research looked at data from two large online, opt-in surveys conducted by the polling firm YouGov. These surveys were conducted in 2008 and 2010 and were designed to be representative of the adult *citizen* population. Given that having access to the internet was a prerequisite for taking this English only, online survey about American politics, it's highly likely that participation by non-citizens would be too low to be truly representative of the general population. And, so the first thought that should come to your mind at this point, is that any insights into non-citizen behavior cannot be extrapolated out to the population as a whole.\n",
    "\n",
    "The [Cooperative Congressional Election Study (CCES)][cces] is ...\n",
    "\n",
    "The author originally spoke about his findings in an blog post that he and fellow Old Dominion researcher, David Earnest, published in the Washington Post's political blog, the Monkey Cage. In [this post][monkey_cage_1], Richman claimed that out of the 14% of registered non-citizen voters, 6.4 percent actually voted in the 2008 election, and 2.2% voted in the 2010 mid-term elections.\n",
    "\n",
    "The [data][panel_data] for the [panel study][panel_study] study\n",
    "\n",
    "[CCES Paper][cces_paper]\n",
    "\n",
    "The peer-reviewed \"[The perils of cherry picking low frequency events in large sample surveys][perils]\" \n",
    "\n",
    "\n",
    "The most convincing of these studies is the Richman paper titled \"\". The research was performed in 2014 and looked at data from two large online, opt-in studies conducted by the polling firm YouGov. These studies were designed to be representative of the adult *citizen* population. Since having access to the internet is a prerequisite for tatking this English only, online survey about American politics, it is very likely that participation by non-citizens will be too low to be truly representative of the general population. The [Cooperative Congressional Election Study (CCES)][cces] is ...\n",
    "\n",
    "The author originally spoke about his findings in an blog post that he and fellow Old Dominion researcher, David Earnest, published in the Washington Post's political blog, the Monkey Cage. In [this post][monkey_cage_1], Richman claimed that out of the 14% of registered non-citizen voters, 6.4 percent actually voted in the 2008 election, and 2.2% voted in the 2010 mid-term elections.\n",
    "\n",
    "- [Wired article][wired]\n",
    "- [Monkey Cage article][monkey_cage_1]\n",
    "- [Monkey Cage follow up][monkey_cage_2]\n",
    "\n",
    "[panel_data]: https://dataverse.harvard.edu/dataset.xhtml?persistentId=doi:10.7910/DVN/24416\n",
    "[panel_study]: https://en.wikipedia.org/wiki/Longitudinal_study\n",
    "[cces_paper]: http://projects.iq.harvard.edu/cces/news/perils-cherry-picking-low-frequency-events-large-sample-surveys\n",
    "[perils]: http://www.sciencedirect.com/science/article/pii/S0261379415001420\n",
    "[wired]: https://www.wired.com/2017/01/author-trumps-favorite-voter-fraud-study-says-everyones-wrong/\n",
    "[monkey_cage_1]: https://www.washingtonpost.com/news/monkey-cage/wp/2014/10/24/could-non-citizens-decide-the-november-election/?utm_term=.6d1dff290b44\n",
    "[monkey_cage_2]: https://www.washingtonpost.com/news/monkey-cage/wp/2014/10/27/methodological-challenges-affect-study-of-non-citizens-voting/?utm_term=.83d329c65361\n",
    "\n",
    "-->"
   ]
  },
  {
   "cell_type": "markdown",
   "metadata": {},
   "source": [
    "Even Jesse Richman himself in a [later post][richman_rebuttal] rebutted Trump's use of his findings to confirm that he did indeed win the popular vote. Richman argues that even the assumptions in his original paper are completely correct, the numbers still don't add up to a Trump win. The math from Richman's simple extrapolation is listed below and as you can see, these numbers fall well short of the 2.9 million votes that Trump ultimately lost by.\n",
    "\n",
    "[richman_rebuttal]: https://fs.wp.odu.edu/jrichman/2016/11/28/is-it-plausible-that-non-citizen-votes-account-for-the-entire-margin-of-trumps-popular-vote-loss-to-clinton/"
   ]
  },
  {
   "cell_type": "code",
   "execution_count": 25,
   "metadata": {
    "collapsed": true
   },
   "outputs": [],
   "source": [
    "# The number of non-citizens in the U.S. in 2016 was reported as 20.3 million\n",
    "# http://www.census.gov/cps/data/cpstablecreator.html 21 million non-citizen voters\n",
    "non_citizens = 20971324 #20300000\n",
    "\n",
    "# According to CNN, Clinton has 2,865,075 more votes than Trump\n",
    "clinton_popular_vote_lead = 2865075"
   ]
  },
  {
   "cell_type": "code",
   "execution_count": 21,
   "metadata": {
    "collapsed": false
   },
   "outputs": [
    {
     "name": "stdout",
     "output_type": "stream",
     "text": [
      "Difference in Vote: 863011\n"
     ]
    }
   ],
   "source": [
    "# Richman's paper assumes that 6.4% of the 20.3 million non-citizens voted\n",
    "illegal_voters = non_citizens * 0.064\n",
    "# Of those illegal voters 81.8% would have voted for Clinton\n",
    "clinton = illegal_voters * 0.818\n",
    "# and 17.5% would have gone to Trump\n",
    "trump = illegal_voters * 0.175\n",
    "\n",
    "print(\"Difference in Vote: %d\" % (clinton - trump))"
   ]
  },
  {
   "cell_type": "markdown",
   "metadata": {},
   "source": [
    "Using the least conservative estimate from Richman's paper, we can compute the same difference again with the assumption that 14.7% of non-citizens voted in the 2016 election. However, even with these ([admittedely][bad_math]) unrealistic estimates, Trump is still looking at a 1 million vote defecit.\n",
    "\n",
    "[bad_math]: https://fs.wp.odu.edu/jrichman/2016/11/28/is-it-plausible-that-non-citizen-votes-account-for-the-entire-margin-of-trumps-popular-vote-loss-to-clinton/"
   ]
  },
  {
   "cell_type": "code",
   "execution_count": 22,
   "metadata": {
    "collapsed": false
   },
   "outputs": [
    {
     "name": "stdout",
     "output_type": "stream",
     "text": [
      "Difference in Vote: 1982230\n"
     ]
    }
   ],
   "source": [
    "# Richman's paper assumes that 6.4% of the 20.3 million non-citizens voted\n",
    "illegal_voters = non_citizens * 0.147\n",
    "# Of those illegal voters 81.8% would have voted for Clinton\n",
    "clinton = illegal_voters * 0.818\n",
    "# and 17.5% would have gone to Trump\n",
    "trump = illegal_voters * 0.175\n",
    "\n",
    "print(\"Difference in Vote: %d\" % (clinton - trump))"
   ]
  },
  {
   "cell_type": "markdown",
   "metadata": {},
   "source": [
    "In fact, the only way that we can come anywhere near the numbers Trump needs to claim that he won the popular vote is to use the unlikely estimate of 14.7% and then we also need to make the assumption that every last one of the illegal voters decided to vote to Clinton, yet another unlikely assumption. If we assume that there were no errors with the original study, and we suspend our perceptions of reality long enough to give Trump the benefit of the doubt on both the number of non-citizens that voted and that they all universally dislike Trump, then we can arrive at a number ([2865075][popular_vote]) that puts Trump in the lead by a little over 100,000 votes.\n",
    "\n",
    "[popular_vote]: http://www.cnn.com/election/results/president"
   ]
  },
  {
   "cell_type": "markdown",
   "metadata": {},
   "source": [
    "We can use SymPy to calculate the percentage of non-citizen voters that would be needed to vote for Clinton for Trump to account for her victory in the popular vote."
   ]
  },
  {
   "cell_type": "code",
   "execution_count": 58,
   "metadata": {
    "collapsed": false
   },
   "outputs": [
    {
     "data": {
      "text/plain": [
       "[0.964689452188354]"
      ]
     },
     "execution_count": 58,
     "metadata": {},
     "output_type": "execute_result"
    }
   ],
   "source": [
    "from sympy import *\n",
    "\n",
    "a, x = symbols('a x')\n",
    "a = 20971324 * 0.147\n",
    "eq = (a * x) - (a * (1 - x)) - 2865075\n",
    "\n",
    "solve(eq, x)"
   ]
  },
  {
   "cell_type": "code",
   "execution_count": 63,
   "metadata": {
    "collapsed": false
   },
   "outputs": [
    {
     "name": "stdout",
     "output_type": "stream",
     "text": [
      "Difference in Vote: 2866989\n",
      "-1914\n"
     ]
    }
   ],
   "source": [
    "# Richman's paper assumes that 6.4% of the 20.3 million non-citizens voted\n",
    "illegal_voters = non_citizens * 0.147\n",
    "# Of those illegal voters 81.8% would have voted for Clinton\n",
    "clinton = illegal_voters * 0.96\n",
    "# and 17.5% would have gone to Trump\n",
    "trump = illegal_voters * 0.03\n",
    "\n",
    "print(\"Difference in Vote: %d\" % (clinton - trump))\n",
    "print(\"%d\" % (clinton_popular_vote_lead - (clinton - trump)))"
   ]
  },
  {
   "cell_type": "code",
   "execution_count": null,
   "metadata": {
    "collapsed": true
   },
   "outputs": [],
   "source": []
  },
  {
   "cell_type": "code",
   "execution_count": 27,
   "metadata": {
    "collapsed": false
   },
   "outputs": [
    {
     "name": "stdout",
     "output_type": "stream",
     "text": [
      "Difference in Vote: 1065280\n",
      "1799794\n"
     ]
    }
   ],
   "source": [
    "# Richman's paper assumes that 6.4% of the 20.3 million non-citizens voted\n",
    "illegal_voters = non_citizens * 0.079\n",
    "# Of those illegal voters 81.8% would have voted for Clinton\n",
    "clinton = illegal_voters * 0.818\n",
    "# and 17.5% would have gone to Trump\n",
    "trump = illegal_voters * 0.175\n",
    "\n",
    "print(\"Difference in Vote: %d\" % (clinton - trump))\n",
    "print(\"%d\" % (clinton_popular_vote_lead - (clinton - trump)))"
   ]
  },
  {
   "cell_type": "code",
   "execution_count": 19,
   "metadata": {
    "collapsed": false
   },
   "outputs": [
    {
     "name": "stdout",
     "output_type": "stream",
     "text": [
      "Difference in Vote for Clinton: 3082784\n",
      "-217709\n"
     ]
    }
   ],
   "source": [
    "# Richman's paper assumes that 6.4% of the 20.3 million non-citizens voted\n",
    "illegal_voters = non_citizens * 0.147\n",
    "# Of those illegal voters 81.8% would have voted for Clinton\n",
    "clinton_votes = illegal_voters * 1\n",
    "# and 17.5% would have gone to Trump\n",
    "trump_votes = illegal_voters * 0.0\n",
    "\n",
    "print(\"Difference in Vote for Clinton: %d\" % (clinton_votes - trump_votes))\n",
    "print(\"%d\" % (clinton_popular_vote_lead - (clinton_votes - trump_votes)))"
   ]
  },
  {
   "cell_type": "markdown",
   "metadata": {
    "collapsed": true
   },
   "source": [
    "The author of the [Pew Study][pew_study] that Trump likes to refer to has also [made a statement][pew_rebuttal] via Twitter that though the study does point out problems with our system, that they \"...found no evidence that voter fraud resulted.\"\n",
    "\n",
    "[pew_study]: http://www.pewtrusts.org/~/media/legacy/uploadedfiles/pcs_assets/2012/pewupgradingvoterregistrationpdf.pdf\n",
    "[pew_rebuttal]: https://twitter.com/beckerdavidj/status/803301967875321857"
   ]
  },
  {
   "cell_type": "code",
   "execution_count": 14,
   "metadata": {
    "collapsed": false
   },
   "outputs": [
    {
     "data": {
      "text/html": [
       "<script async src=\"//platform.twitter.com/widgets.js\" charset=\"utf-8\"></script>"
      ],
      "text/plain": [
       "<IPython.core.display.HTML object>"
      ]
     },
     "metadata": {},
     "output_type": "display_data"
    }
   ],
   "source": [
    "%%HTML\n",
    "<script async src=\"//platform.twitter.com/widgets.js\" charset=\"utf-8\"></script>"
   ]
  }
 ],
 "metadata": {
  "anaconda-cloud": {},
  "kernelspec": {
   "display_name": "Python [conda env:blog_py3]",
   "language": "python",
   "name": "conda-env-blog_py3-py"
  },
  "language_info": {
   "codemirror_mode": {
    "name": "ipython",
    "version": 3
   },
   "file_extension": ".py",
   "mimetype": "text/x-python",
   "name": "python",
   "nbconvert_exporter": "python",
   "pygments_lexer": "ipython3",
   "version": "3.5.2"
  }
 },
 "nbformat": 4,
 "nbformat_minor": 2
}
