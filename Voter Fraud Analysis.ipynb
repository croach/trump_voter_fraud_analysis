{
 "cells": [
  {
   "cell_type": "markdown",
   "metadata": {},
   "source": [
    "# Did Illegal Voting Cost Trump the Popular Vote?\n",
    "\n",
    "Our new president, Donal Trump, is no stranger to hyperbole. The question of just how far he's willing to stretch the truth has been a topic of some debate for quite sometime now. The most recent of his fantastical claims is, of course, that Obama had Trump Towers wiretapped during the recent election. The validity, and [motive][trump_wiretap_motive], of this most recent claim is still being debated, but without providing at least a scintilla of evidence for the claim, it's not currently looking very good for Trump. \n",
    "\n",
    "<blockquote class=\"twitter-tweet\" data-lang=\"en\"><p lang=\"en\" dir=\"ltr\">Terrible! Just found out that Obama had my &quot;wires tapped&quot; in Trump Tower just before the victory. Nothing found. This is McCarthyism!</p>&mdash; Donald J. Trump (@realDonaldTrump) <a href=\"https://twitter.com/realDonaldTrump/status/837989835818287106\">March 4, 2017</a></blockquote>\n",
    "<script async src=\"//platform.twitter.com/widgets.js\" charset=\"utf-8\"></script>\n",
    "\n",
    "While I find this latest claim mildly frustrating, it's a little too fanciful for me to really take seriously. For my money, his most interesting claim to date still has to be that millions of illegal voters cost him the popular vote. This particular assertion is of interest to me for a few reasons. First, I have yet to see a single source outside of the Trump camp, and his diehard supporters, treat this claim with even an ounce of credibility. Second, unlike the wiretapping claim, this one is based on actual research from reputable sources. And, finally, this particular claim can be easily proven or disproven by simply looking at the data. So, that's what we're going to do here.\n",
    "\n",
    "<blockquote class=\"twitter-tweet\" data-lang=\"en\"><p lang=\"en\" dir=\"ltr\">In addition to winning the Electoral College in a landslide, I won the popular vote if you deduct the millions of people who voted illegally</p>&mdash; Donald J. Trump (@realDonaldTrump) <a href=\"https://twitter.com/realDonaldTrump/status/802972944532209664\">November 27, 2016</a></blockquote>\n",
    "\n",
    "<!--\n",
    "Given the seamingly non-existent presence of evidence, I wanted to take a closer look to understand why the newly appointed leader of the free world is so adamant that he was a robbed of a full mandate by a large group of non-citizen voters. This article contains the results of my investigation.\n",
    "\n",
    "Our newly elected president, Donald Trump, has been insiting for quite sometime now, that the reason for his loss of the popular vote (by just a hair under 3 million votes) is completely due to the millions of illegal votes that were cast in favor of Hillary Clinton in this past November's election. This assertion is interesting to me because I haven't heard a single source outside of the Trump camp treat this claim with even an ounce of credibility. Given the seamingly non-existent presence of evidence, I wanted to take a closer look to understand why the newly appointed leader of the free world is so adamant that he was a robbed of a full mandate by a large group of non-citizen voters. This article contains the results of my investigation.\n",
    "\n",
    "<blockquote class=\"twitter-tweet\" data-lang=\"en\"><p lang=\"en\" dir=\"ltr\">In addition to winning the Electoral College in a landslide, I won the popular vote if you deduct the millions of people who voted illegally</p>&mdash; Donald J. Trump (@realDonaldTrump) <a href=\"https://twitter.com/realDonaldTrump/status/802972944532209664\">November 27, 2016</a></blockquote>\n",
    "-->\n",
    "\n",
    "Now, before we take a hard look at that data, I'll just go ahead and state at the outset that I'm a somewhat moderate liberal who voted for Hilary Clinton, and being a software engineer living and working in Silicon Valley, I'm well aware of my status as a [coastal elite][coastal_elite] and the possible biases that it brings to my perspective on the world. Nevertheless, I want to be an informed citizen and not just an echo chamber, so I wanted dig into the evidence for Trump's claims along with the refutations from the experts. This article is my collection, summarization, and examination of everything that I could find around this claim, as well as a reproduction of the figures found in the two most interesting rebuttals of Trump's erroneous assertions.\n",
    "\n",
    "[trump_wiretap_motive]: https://www.theatlantic.com/politics/archive/2017/03/why-trump-is-accusing-obama-of-wiretapping/518793/\n",
    "\n",
    "[coastal_elite]: http://www.salon.com/2016/11/20/real-americans-vs-coastal-elites-what-right-wing-sneers-at-city-dwellers-really-mean/"
   ]
  },
  {
   "cell_type": "markdown",
   "metadata": {},
   "source": [
    "## The Evidence for Trump\n",
    "\n",
    "There seems to be three main sources of proof for Trump's confusion around his loss of the popular vote. The first is a [peer reviewed paper][richman_electoral_studies] published in the journal *Electoral Studies* by Political Scientists Jesse T. Richman, Gulshan A. Chattha, and David C. Earnest. The second is a [Pew Research report][pew_report] written by David Becker on the inefficiencies within our current system along with some numbers around outdated voter records as well. The third, and most recent, is a yet to be seen piece of analysis from [VoteStand][votestand], a company dedicated to monitoring voter fraud with a free mobile application. \n",
    "\n",
    "[richman_electoral_studies]: http://www.sciencedirect.com/science/article/pii/S0261379414000973\n",
    "[pew_report]: http://www.pewtrusts.org/~/media/legacy/uploadedfiles/pcs_assets"
   ]
  },
  {
   "cell_type": "markdown",
   "metadata": {},
   "source": [
    "### The VoteStand Analysis\n",
    "\n",
    "I'll just go ahead and dispense with the [VoteStand analysis][votestand] now since there's really nothing to discuss at this point. The story here is that VoteStand's founder, Gregg Phillips, made the claim shortly after the election that upwards of 3 million votes were cast illegally in favor of Clinton. \n",
    "\n",
    "<blockquote class=\"twitter-tweet\" data-lang=\"en\"><p lang=\"en\" dir=\"ltr\">Look forward to seeing final results of VoteStand. Gregg Phillips and crew say at least 3,000,000 votes were illegal. We must do better!</p>&mdash; Donald J. Trump (@realDonaldTrump) <a href=\"https://twitter.com/realDonaldTrump/status/824968416486387713\">January 27, 2017</a></blockquote>\n",
    "\n",
    "To date, however, Gregg and VoteStand have yet to share any of their findings or their methodologies with the general public, so all we currently have to go on are Gregg's initial claims, and even he seems to be [hedging his bet][theantlantic] a bit now. So, until we see some actual evidence from the VoteStand analysis, there's not much we can do with the unsubstantiated claims of its founder other than acknowledge them and move on.\n",
    "\n",
    "[votestand]: http://www.votestand.com/\n",
    "[theantlantic]: https://www.theatlantic.com/politics/archive/2017/01/gregg-phillips-trump-voter-fraud/515046/"
   ]
  },
  {
   "cell_type": "markdown",
   "metadata": {},
   "source": [
    "### The Pew Research Report\n",
    "\n",
    "The other easily disputable piece of evidence is the Pew Research report. In one tweet, Trump stated that he would be calling for an investigation into voter fraud with a specific interest in voters registered in more than one state. This idea has no doubt come out of his interpretation of the Pew Research findings.\n",
    "\n",
    "<blockquote class=\"twitter-tweet\" data-lang=\"en\"><p lang=\"en\" dir=\"ltr\">I will be asking for a major investigation into VOTER FRAUD, including those registered to vote in two states, those who are illegal and....</p>&mdash; Donald J. Trump (@realDonaldTrump) <a href=\"https://twitter.com/realDonaldTrump/status/824227824903090176\">January 25, 2017</a></blockquote>\n",
    "\n",
    "Though this report found evidence of millions of invalid voter registrations (e.g., 24 million outdated records, 1.8 million deceased voters, and 2.4 million registered in multiple states), the author, David Becker, has since stated that no evidence of voter fraud was ever uncovered in the Pew Research study.\n",
    "\n",
    "<blockquote class=\"twitter-tweet\" data-lang=\"en\"><p lang=\"en\" dir=\"ltr\">We found millions of out of date registration records due to people moving or dying, but found no evidence that voter fraud resulted.</p>&mdash; David Becker (@beckerdavidj) <a href=\"https://twitter.com/beckerdavidj/status/803301967875321857\">November 28, 2016</a></blockquote>\n",
    "\n",
    "One enteraining tidbit that has come out of Trump looking into invalid voter registrations, such as voters registered in multiple states, is that amongst his own administration there are at least five members that are actively registered to vote in more than one state.\n",
    "\n",
    "<!--The really funny part here is that if having an invalid voter registration in one's name meant that the individual had voted illegally, then several members of Trump's administration would be guilty of illegal voting since at least five of his most trusted collaborators have voter registrations in multiple states.-->\n",
    "\n",
    "#### Trump Team Members Registered to Vote in Multiple States\n",
    "\n",
    "- Chief White House strategist Stephen Bannon\n",
    "- Press Secretary Sean Spicer\n",
    "- Treasury Secretary Steven Mnuchin\n",
    "- Tiffany Trump, the president's youngest daughter\n",
    "- Senior White House Advisor Jared Kushner, and Trump's son-in-law\n",
    "\n",
    "The question then, given Trump's interest in invalid voter registrations, is \"are people such as Stephen Bannon, Sean Spicer, and even Trump's daughter Tiffany part of some conspiracy to illegally elect Hillary Clinton?\" Oh, and I almost forget VoteStand's founder Gregg Phillips who, as it turns out, is registered to vote in three different states [according to the Associated Press][ap_greg_phillips]. The point I'm trying to make here, and this is what David Becker confirmed in his tweet, is that, yes, we know our system isn't perfect; people move around and pass away and our voter records are not always kept up to date, but that doesn't necessarily mean that millions of people voted illegally.\n",
    "\n",
    "[ap_greg_phillips]: https://apnews.com/80497cfb5f054c9b8c9e0f8f5ca30a62"
   ]
  },
  {
   "cell_type": "markdown",
   "metadata": {},
   "source": [
    "### The CCES Analysis\n",
    "\n",
    "That brings me to the most interesting piece of evidence for Trump's claim of a popular vote victory: a peer reviewed paper titled [\"Do non-citizens vote in U.S. elections?\"][richman_electoral_studies]. In this paper, three political scientists from Old Dominion University describe an analysis they performed on data from two large online, opt-in surveys conducted by the polling firm YouGov. The surveys were given during the [2008 presidential election][cces_2008] and the subsequent [2010 midterms][cces_2010]. Though these surveys were designed to capture information from the adult *citizen* population, a relatively small number of non-citizens did participate in the surveys: 339 of 32,800 respondents in 2008 and 489 of 55,400 in 2010. The data from this small sample of non-citizen participants was used to extrapolate the numbers by which Trump professes to have won the popular vote. Specifically, the authors of the paper conclude that up to an estimated 14.7% of non-citizens could have voted in the 2008 election, and as we'll see shortly, it is this overly-optimistic estimate that Trump is drawing upon to prove his November mandate.\n",
    "\n",
    "[richman_electoral_studies]: http://www.sciencedirect.com/science/article/pii/S0261379414000973\n",
    "[cces_surveys]: http://projects.iq.harvard.edu/cces\n",
    "[cces_2008]: https://dataverse.harvard.edu/dataset.xhtml?persistentId=hdl:1902.1/14003\n",
    "[cces_2010]: https://dataverse.harvard.edu/dataset.xhtml?persistentId=hdl:1902.1/17705\n",
    "\n",
    "<!--\n",
    "They also go on to argue that the most likely number of actual voters is around 6.4% of non-citizens and that this number is large enough to have given the democrats their much needed 60th vote in the senate allowing for the passing of the Affordable Care Act.\n",
    "\n",
    "Specifically, the authors concluded that as low as 2.2% and as high as 14.7% of non-citizen voters could have voted in the 2008 and 2010 elections. They also go on to argue that the most likely number of actual voters is around 6.4% of non-citizens and that this number is large enough to have given the democrats their much needed 60th vote in the senate allowing for the passing of the Affordable Care Act.\n",
    "-->\n",
    "\n",
    "Now, [there][monkey_cage_1] [are][monkey_cage_2] [numerous][monkey_cage_3] [reasons][evic_article] that Trump's use of the authors' findings as proof of his win could be somewhat misleading, but there are two reasons in particular that we will discuss in the following sections. \n",
    "\n",
    "[monkey_cage_1]: https://www.washingtonpost.com/news/monkey-cage/wp/2014/10/27/methodological-challenges-affect-study-of-non-citizens-voting/?utm_term=.71fabd688880\n",
    "[monkey_cage_2]: https://www.washingtonpost.com/news/monkey-cage/wp/2014/10/28/what-can-we-learn-about-the-electoral-behavior-of-non-citizens-from-a-survey-designed-to-learn-about-citizens/?utm_term=.0abe23443adc\n",
    "[monkey_cage_3]: https://www.washingtonpost.com/news/monkey-cage/wp/2014/10/31/are-non-citizens-following-american-election-laws/?utm_term=.d9f51729fff9\n",
    "[evic_article]: http://blogs.reed.edu/earlyvoting/commentary/more-on-the-non-citizen-voting-article/"
   ]
  },
  {
   "cell_type": "markdown",
   "metadata": {
    "collapsed": true
   },
   "source": [
    "#### Bad Math and Misinterpretation\n",
    "\n",
    "First, it's no secret that [Trump doesn't like to read][trump_hates_reading], so it's very possible that he just hasn't read the paper that he is citing as the reason for his popular vote victory. If he had, he would've no doubt realized that the chances that a huge number of illegal voters handing the popular vote to Hilary is next to impossible, and is not endorsed by the results in the paper. But, don't take my word for it, the math is simple, so let's run the numbers.\n",
    "\n",
    "<!--\n",
    "is that Trump has either not read the paper in question, or simply just doesn't understand its findings. I'm going to give him the benefit of the doubt and assume he hasn't actually read the paper, after all we all know that [Trump doesn't like to read][trump_hates_reading]. If he had done more than simply skim the paper, he would've noticed that the 14.7% that he needs for a win is unrealistic even in the eyes of the researchers. In fact, the authors mention in the paper (emphasis mine) that by \"taking the **least conservative measure**---at least one indicator showed that the respondent voted---yields an estimate that **between 7.9% and 14.7%** of non-citizens voted in 2008.\" Therefore, only the most opportunistic view of the data would yield the numbers Trump needs, and only on the very high end at that. Looking at the low end of the estimate, Trump still loses to Clinton by a whopping 1.8 million votes.\n",
    "-->\n",
    "[trump_hates_reading]: https://www.washingtonpost.com/politics/donald-trump-doesnt-read-much-being-president-probably-wouldnt-change-that/2016/07/17/d2ddf2bc-4932-11e6-90a8-fb84201e0645_story.html?utm_term=.3e93c3e091c4\n",
    "\n",
    "The Cook Political Report, an independent, non-partisan political newsletter, [reported that Hilary Clinton won the popular vote][cook_popular_vote_totals] by roughly **2.9 million votes**. Within the same time period, the total number of non-citizens living in the U.S. was about **23 million**, according to a [report from the Kaiser Family Foundation][kaiser_non_citizen_totals]. \n",
    "\n",
    "[cook_popular_vote_totals]: http://cookpolitical.com/story/10174\n",
    "[kaiser_non_citizen_totals]: http://kff.org/other/state-indicator/distribution-by-citizenship-status/?dataView=1&currentTimeframe=0&selectedDistributions=non-citizen&sortModel=%7B%22colId%22:%22Location%22,%22sort%22:%22asc%22%7D"
   ]
  },
  {
   "cell_type": "code",
   "execution_count": 1,
   "metadata": {
    "collapsed": true
   },
   "outputs": [],
   "source": [
    "# The number of votes Hillary won over Trump\n",
    "popular_vote_margin = 2864974\n",
    "# The total number of non-citizens living in the U.S. in 2016\n",
    "total_non_citizens = 22984400\n",
    "# Proportion of non-citizen votes needed for a Trump win\n",
    "percent_needed_for_trump_win = round(popular_vote_margin / total_non_citizens * 100, 1)"
   ]
  },
  {
   "cell_type": "markdown",
   "metadata": {
    "collapsed": true,
    "variables": {
     "percent_needed_for_trump_win": "12.5"
    }
   },
   "source": [
    "So, for Trump to have actually won the popular vote, he would have needed approximately **{{percent_needed_for_trump_win}}%** of non-citizens to not only vote, but to vote only in favor of Hillary. In the paper, Richman et al., conclude that at the high end, **11.3%** of non-citizens may have actually voted in the 2008 election. Now, that falls a bit shy of the {{percent_needed_for_trump_win}}% that Trump needs for a win, but when you take into account the margin of error (see the calculation below), you get a range of **7.9 - 14.7%** (with a confidence level of 95%), which would mean that a popular vote victory could, theoretically at least, be possible. "
   ]
  },
  {
   "cell_type": "code",
   "execution_count": 2,
   "metadata": {},
   "outputs": [
    {
     "name": "stdout",
     "output_type": "stream",
     "text": [
      "Margin of Error: 3.4%\n",
      "Confidence Interval (95%): 7.9 - 14.7%\n"
     ]
    }
   ],
   "source": [
    "import math\n",
    "\n",
    "def margin_of_error(p, n, z=1.96):\n",
    "    \"\"\"Returns the Margin of Error for the given proportion.\n",
    "    \n",
    "    Arguments:\n",
    "    p -- the proportion of the sample with a characteristic\n",
    "    n -- the size of the sample\n",
    "    z -- z-score for the desired confidence interval\n",
    "    \n",
    "    \"\"\"\n",
    "    return z * math.sqrt(p * (1 - p)/n)\n",
    "\n",
    "# The proportion (11.3%) of non-citizens that may have voted in 2008\n",
    "p = 0.113 \n",
    "# The total number (339) of non-citizens in the 2008 survey\n",
    "n = 339\n",
    "# Calculate the margin of error for the sample population of 339 non-citizens\n",
    "moe = round(margin_of_error(p, n) * 100, 1)\n",
    "# Calculate the 95% confidence interval\n",
    "ci = (11.3 - moe, 11.3 + moe)\n",
    "\n",
    "print('Margin of Error: {0:.1f}%'.format(moe))\n",
    "print('Confidence Interval (95%): {0:.1f} - {1:.1f}%'.format(*ci))"
   ]
  },
  {
   "cell_type": "markdown",
   "metadata": {},
   "source": [
    "So, what could possibly be wrong with this picture?\n",
    "\n",
    "Well, for starters, the author of the paper has stated that the numbers don't add up to a victory simply because the scenario that we fleshed out above is not a reaslistic one. In a [blog post][richman_blog_post] on his personal website, Richman explains that the 12.5% that Trump needs for a win is probably not likely to have materialized. In fact, as Richman points out in his blog post, the authors of the original paper had already estimated that the most likely percentage would have been **6.4%**. If Trump had read the entire paper, he would have noticed this number and realized that his claims couldn't hold water.\n",
    "\n",
    "[richman_blog_post]: https://fs.wp.odu.edu/jrichman/2016/11/28/is-it-plausible-that-non-citizen-votes-account-for-the-entire-margin-of-trumps-popular-vote-loss-to-clinton/"
   ]
  },
  {
   "cell_type": "code",
   "execution_count": 3,
   "metadata": {
    "collapsed": true
   },
   "outputs": [],
   "source": [
    "# Richman's paper concludes that 6.4% is a more \n",
    "# realistic estimate of non-citizen voters\n",
    "adj_p = 0.064\n",
    "illegal_voters = adj_p * total_non_citizens"
   ]
  },
  {
   "cell_type": "markdown",
   "metadata": {
    "variables": {
     "round(illegal_voters/1000000, 1)": "1.5"
    }
   },
   "source": [
    "Now, if we use the more realistic percentage to calculate the number of illegal voters, we get only {{round(illegal_voters/1000000, 1)}} million, which gives us just about half of what Trump needs for a win in the popular vote. Furthermore, based on voter behavior from the 2008 election, Richman states that it's likely that only **81.8%** of those illegal voters would have actually voted for Clinton. Given that new piece of information, the most likely result would be..."
   ]
  },
  {
   "cell_type": "code",
   "execution_count": 4,
   "metadata": {
    "collapsed": true
   },
   "outputs": [],
   "source": [
    "# Of those illegal voters 81.8% would have voted for Clinton\n",
    "clinton = round(illegal_voters * 0.818)\n",
    "# and 17.5% would have gone to Trump\n",
    "trump = round(illegal_voters * 0.175)\n",
    "# Number of popular votes for Clinton minus non-citizens\n",
    "adj_popular_vote_margin = popular_vote_margin - (clinton - trump)\n",
    "# The proportion of non-citizens needed to vote to have lost the election\n",
    "# as a result of illegal voting activity (assuming that 90% of non-citizens\n",
    "# vote for Clinton and keeping the third party vote constant).\n",
    "non_citizen_proportion_needed = popular_vote_margin/(total_non_citizens * (0.9 - 0.093))"
   ]
  },
  {
   "cell_type": "markdown",
   "metadata": {
    "collapsed": true,
    "variables": {
     "round(adj_popular_vote_margin/1000000, 1)": "1.9",
     "round(non_citizen_proportion_needed * 100, 1)": "15.4",
     "round(popular_vote_margin/1000000, 1)": "2.9"
    }
   },
   "source": [
    "...that **Trump would have lost the popular vote by {{round(adj_popular_vote_margin/1000000, 1)}} million votes** instead of {{round(popular_vote_margin/1000000, 1)}} million. In fact, even if we assume that Richman's numbers are a little too low, in other words, we give Trump the benefit of the doubt and assume that 90% of non-citizens would vote for Clinton if they had voted, Trump would need **{{round(non_citizen_proportion_needed * 100, 1)}}%** of non-citizens to vote to lose the election solely due to illegal voting activity. That's a far cry from the 11.3% reported as the high end in the original paper, and even adjusting for the margin of error, the number Trump needs still falls outside of the possible range.\n",
    "\n",
    "The bottom line is that, even if the paper's results are to be believed, the math just doesn't add up. The possibility of Trump winning the popular vote from illegal votes alone is just so slim that it has no grounding in reality. Of course, this assuming that the results of the paper are completely flawless, but according to another [peer reviewed paper][perils] in the same journal---the authors of which are actually the PI and co-PI of the studies used in the Richman paper---that may not be the case. \n",
    "\n",
    "[perils]: http://www.sciencedirect.com/science/article/pii/S0261379415001420"
   ]
  },
  {
   "cell_type": "markdown",
   "metadata": {},
   "source": [
    "#### Respondent Error\n",
    "\n",
    "That brings me to the main argument of [\"The Perils of Cherry Picking Low Frequency Events in Large Sample Surveys\"][perils]. In this paper, Ansolabehere et al., argue that the signficance of Richman's findings can be completely attributed to respondent error. \n",
    "\n",
    "Respondent error, [according to Wikipedia][response_error], \"refers to any error introduced into the survey results due to respondents providing untrue or incorrect information\" and simply put, it's a natural part of any and every survey. It could be that the participant didn't understand the question. Or, perhaps they haven't had that first cup of coffee, and in a state of caffeine-deprived grogginess, mistakenly checked the wrong box. The truth of the matter is that errors such as these happen, and the larger the survey the more chances for such errors to occur. \n",
    "\n",
    "Now, I know it may seem a little far-fetched to say that we can go from millions of illegal voters handing an illegitemite win to Clinton, to basically saying there's nothing to see here just because a few hundred people checked the wrong box, but this may prove to be the case. In the following sections I work through each of the main points made by Ansolabehere et al. in their short, but effective rebuttal.\n",
    "\n",
    "[response_error]: https://en.wikipedia.org/wiki/Respondent_error\n",
    "[perils]: http://projects.iq.harvard.edu/cces/news/perils-cherry-picking-low-frequency-events-large-sample-surveys\n",
    "\n",
    "<!--\n",
    "The very first thing that the authors do is walk through a simplified example to illustrate the dangers of using information derived from a relatively low frequencey event in a large study to infer behavior of the general population. In the paper's example, the authors describe a study with 20,000 participants where a small number (2.5%) of the participants lack a characteristic that the rest of the respondents possess. The participants of this study are given a survey that asks if the participant possesses the characteristic in question. Assuming that 99.9% of the participants correctly answer this question, which is a pretty high success rate, we would still expect to see roughly 19 people (19,5000 * 0.001) incorrectly state that they do not posses the characteristic. If individuals that posses this characteristic also have a much higher rate of engaging in some behavior than those that lack the characteristic, then it's easy to see how those incorrectly labeled participants would disproportionately affect any inference drawn from the small group.\n",
    "-->"
   ]
  },
  {
   "cell_type": "markdown",
   "metadata": {},
   "source": [
    "The authors of this refutation first go through an example of how inferring population behavior from a relatively low-frequency event (e.g., non-citizen responses in a survey designed to elicit information from citizens) in a large sample can lead to misinterpretations. In this article, however, I'm going to bypass the fictional example and just jump straight into the real data. \n",
    "\n",
    "The dataset that had the most impact with respect to the findings in Richman's paper was the 2008 presidential survey data. This dataset contains observations from 32,800 participants, of which 339 (1%) were labeled as non-citizens. Making the assumption that 99.9% of the time (a pretty high rate of success) the respondents answered the citizenship question correctly, we would expect that roughly 33 individuals (32,800 * (1 - 0.999)) would have incorrectly classified themselves as non-citizens. These incorrectly labeled individuals would then account for about 10% (33/339) of the non-citizen sample. If you then make the additional assumption that citizens vote with a much higher regularity than non-citizens, the result is that the incorrectly labeled participants would be nearly completely responsible for any observed non-citizen voting behavior. \n",
    "\n",
    "As an example, if we assume that 70% of citizens vote and nearly all non-citizens abstain, then the behavior of the incorrectly labeled citizens alone would give the appearance that nearly 7% ((33 * 0.7)/339) of non-citizens voted illegaly in the presidential election. If we were to take this one step further and apply this number to the total number of non-citizens in the US in 2016 ([23 million][non_citizen_2016]), it would appear that roughly 1.6 million (7% of 23M non-citizens) illegal votes were cast in the most recent election. 1.6 million votes is quite a bit larger than the number of illegal votes [estimated by Richman (800k)][richman_blog_post], so it would appear that the conclusions reached in the original paper, if our assumptions above hold true, could possibly be completely credited to expected errors in the data.\n",
    "\n",
    "The question then is, \"just how accurate are our assumptions?\" \n",
    "\n",
    "Well, according to Ansolabehere, et al., the rate of respondent error and the citizen voter rates that we posited above (0.1% and 70% respectively) match the rates observed in a separate panel survey that was conducted during the 2010 and 2012 elections. Rather than just taking this assertion at face value, we can go one step further and actually download the panel data and take a look for ourselves.\n",
    "\n",
    "[non_citizen_2016]: http://kff.org/other/state-indicator/distribution-by-citizenship-status/?dataView=1&currentTimeframe=0&selectedDistributions=non-citizen&sortModel=%7B%22colId%22:%22Location%22,%22sort%22:%22asc%22%7D\n",
    "[richman_blog_post]: https://fs.wp.odu.edu/jrichman/2016/11/28/is-it-plausible-that-non-citizen-votes-account-for-the-entire-margin-of-trumps-popular-vote-loss-to-clinton/"
   ]
  },
  {
   "cell_type": "markdown",
   "metadata": {},
   "source": [
    "##### Step 1: Download, load, and clean the data. \n",
    "\n",
    "I had a little trouble at first finding the panel data that was used in the paper. The yearly survey data can be easily found from the [CCES homepage][cces_homepage], but you have to dig a bit deeper to find the panel data. Luckily, the fine folks at Harvard who conduct the CCES surveys were quick to respond with a [link to the panel data][cces_panel_data] used in the paper. \n",
    "\n",
    "Several formats of the panel data are provided via the download button on the website linked above, but since the original format of the dataset is a Stata file, and pandas has the handy [`read_stata`][read_stata] function, I decided to go with that since it has the nice side effect of making sure that all of the attributes in the dataset have the correct type without any extra work on my part.  \n",
    "\n",
    "> Note: If you're following along on your own machine and wish to run the code below, you'll first need to follow the link above to download the panel data before you can execute the next bit of code.\n",
    "\n",
    "[cces_panel_data]: https://dataverse.harvard.edu/dataset.xhtml?persistentId=doi:10.7910/DVN/24416\n",
    "[cces_homepage]: http://cces.gov.harvard.edu\n",
    "[read_stata]: http://pandas.pydata.org/pandas-docs/stable/generated/pandas.read_stata.html\n",
    "\n",
    "<!-- https://www.census.gov/cps/data/cpstablecreator.html -->"
   ]
  },
  {
   "cell_type": "code",
   "execution_count": 5,
   "metadata": {
    "collapsed": true
   },
   "outputs": [],
   "source": [
    "import pandas as pd\n",
    "\n",
    "cces_panel = pd.read_stata('CCES1012PaneV2.dta')"
   ]
  },
  {
   "cell_type": "markdown",
   "metadata": {},
   "source": [
    "The next problem you may run into is finding the right attributes in the data to analyze. \n",
    "\n",
    "We're specifically trying to figure out the percentage of respondents that could have mistakenly labeled themselves incorrectly with respect to their citizenship, and so we'll need to grab the columns that represent the citizenship question from both years. Unfortunately, as of this writing, the guide that comes with the panel data refers to the columns incorrectly. To find the correct attributes, I had to do a little digging again; specifically, I had to email one of the original authors of the survey, and after their quick response, I was able to piece together which features to use. As it turns out, the names of the features we need actually match the names from the original 2010 and 2012 non-panel surveys. To find the names of the needed fields, I had to dig through the Guides from each of the original surveys, and the columns that we're interested in are `V263` for 2010 and `immstat` for 2012.\n",
    "\n",
    "Now that we know the columns that we're interested, we can clean up the data a bit by removing any participant from the dataset that did not answer the citizenship question in both years. \n",
    "<!--\n",
    "and so we will want to get rid of anyone that did not answer the citizenship question in both the 2010 and 2012 surveys. The data gets a little confusing here as the panel guide incorrectly labels the citizenship question as `immstat_10` and `immstat_12` for the 2010 and 2012 surveys respectively. I had to do a little digging, specifically, I had to email one of the authors of the survey, but I was eventually able to piece together which features to use here. It turns out that the names of the features we want actually match the names from the original 2010 and 2012 non-panel surveys, so you'll need to look at the Guides for each survey to find the correct field names. For our purposes we'll need to use the `V263` attribute for the 2010 citizenship question and `immstat` for 2012.\n",
    "-->\n",
    "\n",
    "<!--\n",
    "We'll first read in the panel data and get rid of anyone that did not answer the citizenship question in both the 2010 and 2012 surveys. The data gets a little confusing here as panel guide incorrectly labels the citizenship question as `immstat_10` and `immstat_12` for the 2010 and 2012 surveys respectively. I had to do a little digging, specifically, I had to email one of the authors of the survey, but I was able to figure out which features to use here. It turns out that the names of the features we want actually match the names from the original 2010 and 2012 non-panel surveys. So, we need to use the `V263` attribute for the 2010 citizenship question and `immstat` for the same question in 2012.\n",
    "-->"
   ]
  },
  {
   "cell_type": "code",
   "execution_count": 6,
   "metadata": {
    "collapsed": true
   },
   "outputs": [],
   "source": [
    "cces_panel.dropna(subset=['V263', 'immstat'], inplace=True)"
   ]
  },
  {
   "cell_type": "markdown",
   "metadata": {},
   "source": [
    "Now that we have our data loaded and properly scrubbed, we're ready to calculate the respondent error rate for the survey.\n",
    "\n",
    "##### Step 2:  Calculate the respondent error rate\n",
    "\n",
    "We'll start our calculation by first calculating the [contingency table][contingency_table] for the survey year and citizenship features. We could do this by using the [`crosstab`][crosstab] function that the pandas library provides, but we'll do it by hand instead so we can use the totals for further calculations later. The following code creates a subset of the data for each of the four possible groups of participants: \n",
    "\n",
    "- `cc` - Individuals who marked themselves as citizens in both years\n",
    "- `cnc` - Individuals who marked themselves as citizens in 2010 and non-citizens in 2012\n",
    "- `ncc` - Individuals who marked themselves as non-citizens in 2010 and citizens in 2012\n",
    "- `ncnc` - Individuals who marked themselves as non-citizens in both years\n",
    "\n",
    "[contingency_table]: https://en.wikipedia.org/wiki/Contingency_table\n",
    "[crosstab]: http://pandas.pydata.org/pandas-docs/stable/generated/pandas.crosstab.html"
   ]
  },
  {
   "cell_type": "code",
   "execution_count": 7,
   "metadata": {
    "collapsed": true
   },
   "outputs": [],
   "source": [
    "# Citizen in 2010 and Citizen in 2012\n",
    "cc = cces_panel[(cces_panel.V263 != 'Immigrant non-citizen') & \n",
    "                (cces_panel.immstat != 'Immigrant non-citizen')]\n",
    "# Citizen in 2010 and Non-citizen in 2012\n",
    "cnc = cces_panel[(cces_panel.V263 != 'Immigrant non-citizen') & \n",
    "                 (cces_panel.immstat == 'Immigrant non-citizen')]\n",
    "# Non-citizen in 2010 and Citizen in 2012\n",
    "ncc = cces_panel[(cces_panel.V263 == 'Immigrant non-citizen') & \n",
    "                 (cces_panel.immstat != 'Immigrant non-citizen')]\n",
    "# Non-citizen in 2010 and Non-citizen in 2012\n",
    "ncnc = cces_panel[(cces_panel.V263 == 'Immigrant non-citizen') &                  \n",
    "                  (cces_panel.immstat == 'Immigrant non-citizen')]"
   ]
  },
  {
   "cell_type": "markdown",
   "metadata": {},
   "source": [
    "Once we have the individual groups created, we simply need to calculate each group's proportion of the entire sample population to produce our contingency table."
   ]
  },
  {
   "cell_type": "code",
   "execution_count": 8,
   "metadata": {
    "collapsed": true
   },
   "outputs": [],
   "source": [
    "cc_percent = round(len(cc)/len(cces_panel) * 100, 2)\n",
    "cnc_percent = round(len(cnc)/len(cces_panel) * 100, 2)\n",
    "ncc_percent = round(len(ncc)/len(cces_panel) * 100, 2)\n",
    "ncnc_percent = round(len(ncnc)/len(cces_panel) * 100, 2)"
   ]
  },
  {
   "cell_type": "markdown",
   "metadata": {
    "variables": {
     "cc_percent": "99.25",
     "cc_percent + ncnc_percent": "99.7",
     "cnc_percent": "0.11",
     "len(cc)": "18737",
     "len(cnc)": "20",
     "len(ncc)": "36",
     "len(ncnc)": "85",
     "ncc_percent": "0.19",
     "ncnc_percent": "0.45",
     "round(cc_percent + ncnc_percent + ncc_percent, 1)": "99.9",
     "round(cnc_percent, 1)": "0.1"
    }
   },
   "source": [
    "| Response in 2010 | Response in 2012 | Number of Respondents | Percentage       |\n",
    "|------------------|------------------|-----------------------|------------------|\n",
    "| **Citizen**      | **Citizen**      | {{len(cc)}}           | {{cc_percent}}   |\n",
    "| **Citizen**      | **Non-citizen**  | {{len(cnc)}}          | {{cnc_percent}}  |\n",
    "| **Non-citizen**  | **Citizen**      | {{len(ncc)}}          | {{ncc_percent}}  |\n",
    "| **Non-citizen**  | **Non-citizen**  | {{len(ncnc)}}         | {{ncnc_percent}} |\n",
    "\n",
    "Using the contingency table above we can estimate the respondent error rate (conversely, the success rate) of the survey participants with respect to correctly reporting their citizenship status. \n",
    "\n",
    "We can see that the overwhelming majority of participants gave matching answers in consecutive years: {{cc_percent}}% labeled themselves as citizens in both years, while {{ncnc_percent}}% identified themselves as non-citizens. It's probably pretty safe to assume that these individuals filled in this portion of the survey correctly, so we'll add them together to get an initial success rate of {{cc_percent + ncnc_percent}}%. Of the two remaining groups, those who marked themselves as citizens in 2010 and non-citizens in 2012 are likely to have responded incorrectly since it is highly unlikely that someone would lose their citizenship in the two years between elections. On the other hand, it's very possible that a handful of non-citizens surveyed in 2010 would be granted citizenship in the intervening years, so we'll add that group to our success rate as well, which will bring the total to {{round(cc_percent + ncnc_percent + ncc_percent, 1)}}%. Conversely, we can say that our respondent error rate is equal to {{round(cnc_percent, 1)}}%, which perfectly matches the number we used in our example above.\n",
    "\n",
    "##### Step 3: Calculate the citizen voter rate\n",
    "\n",
    "The other number in question was the citizen voter rate of approximately 70%. Let's dig into the data once more to see if the number we used in the example above matches the real world. \n",
    "\n",
    "Again, it took a little poking around to find the correct feature to analyze, but if we take a look at the `VV_2010_gen` field, we can see whether or not the participant voted as well as the method by which they did. To determine the number of people who did vote in the 2010 election, we will need to know the list of possible values that each record can take on for that field. The `VV_2010_gen` field is a [category][pd_categorical_data], so we can get a look at its list of possible values through the `cc.cat.categories` property. \n",
    "\n",
    "[pd_categorical_data]: http://pandas.pydata.org/pandas-docs/stable/categorical.html"
   ]
  },
  {
   "cell_type": "code",
   "execution_count": 9,
   "metadata": {},
   "outputs": [
    {
     "data": {
      "text/plain": [
       "Index(['Absentee', 'Early', 'Mail', 'Voted unknown method',\n",
       "       'Confirmed Non-voter', 'Unmatched'],\n",
       "      dtype='object')"
      ]
     },
     "execution_count": 9,
     "metadata": {},
     "output_type": "execute_result"
    }
   ],
   "source": [
    "cc.VV_2010_gen.cat.categories"
   ]
  },
  {
   "cell_type": "markdown",
   "metadata": {},
   "source": [
    "Of the possible values listed above, only the 'Absentee', 'Early', 'Mail', and 'Voted unknown method' options pertain to people who voted in the 2010 election. Therefore, we can calculate the percentage of voters by simply counting the number of records with one of those values and dividing that by the total number of survey participants."
   ]
  },
  {
   "cell_type": "code",
   "execution_count": 10,
   "metadata": {
    "collapsed": true
   },
   "outputs": [],
   "source": [
    "voted = ['Absentee', 'Early', 'Mail', 'Voted unknown method']\n",
    "citizen_voter_rate = sum(cc.VV_2010_gen.isin(voted))/len(cc)"
   ]
  },
  {
   "cell_type": "markdown",
   "metadata": {
    "variables": {
     "round(citizen_voter_rate * 100)": "71.0",
     "round(cnc_percent, 1)": "0.1"
    }
   },
   "source": [
    "We can see that the voter rate among indidividuals registered as citizens in both surveys was {{round(citizen_voter_rate * 100)}}%, which is roughly equivalent to the 70% number we used in the example above. Couple that with the {{round(cnc_percent, 1)}}% respondent error rate that we calculated previously, and it looks like the example we gave does in fact match reality. So, it does look like the results of the Richman et al. paper could be completely contributed to response error and nothing more."
   ]
  },
  {
   "cell_type": "markdown",
   "metadata": {},
   "source": [
    "#### Margin of Error  (or, why is this only a problem with large datasets?)\n",
    "\n",
    "The title of the paper, \"The Perils of Cherry Picking Low Frequency Events in Large Sample Surveys\", seems to suggest that this particular issue is only a problem with large sample sizes such as those derived from the 2008 and 2010 CCES surveys used by Richman and colleagues to come up with their estimate of possible illegal voters. The question then is, \"why does this problem only turn up in large samples?\" \n",
    "\n",
    "The answer to that question would be the [margin of error][margin_of_error].\n",
    "\n",
    "A margin of error, according to Wikipedia, is \"a statistic that expresses the amount of random sampling error in a survey's results.\" Essentially, it is a number that can be applied to a poll's reported results to calculate a range within which we have a given probabilistic chance of the real value falling. In short, the larger the margin of error, the wider the range, and consequently the lower the possibility of the poll's reported results actually matching the real world figures. \n",
    "\n",
    "To make this concept a bit clearer, we can take a look at a short example.\n",
    "\n",
    "[margin_of_error]: https://en.wikipedia.org/wiki/Margin_of_error\n",
    "\n",
    "Let's start with a small dataset, say n = 1000, and then calculate the number of citizens and non-citizens based on the breakdown we saw in the original 2008 CCES survey."
   ]
  },
  {
   "cell_type": "code",
   "execution_count": 11,
   "metadata": {
    "collapsed": true
   },
   "outputs": [],
   "source": [
    "n = 1000\n",
    "non_citizens_proportion = 339/32800\n",
    "non_citizens = round(n * non_citizens_proportion)\n",
    "citizens = n - non_citizens"
   ]
  },
  {
   "cell_type": "markdown",
   "metadata": {
    "variables": {
     "citizens": "990",
     "non_citizens": "10"
    }
   },
   "source": [
    "Using the same breakdown that we saw in the 2008 survey, we end up with a sample of {{citizens}} citizens and {{non_citizens}} non-citizens. \n",
    "\n",
    "Next, we'll use the same error rate that we calculated earlier to determine the number of citizens that would incorrectly identify themselves as non-citizens."
   ]
  },
  {
   "cell_type": "code",
   "execution_count": 12,
   "metadata": {
    "collapsed": true
   },
   "outputs": [],
   "source": [
    "error_rate = 0.001\n",
    "incorrectly_labeled_citizens = round(citizens * error_rate)"
   ]
  },
  {
   "cell_type": "markdown",
   "metadata": {
    "variables": {
     "error_rate": "0.001",
     "incorrectly_labeled_citizens": "1",
     "non_citizens": "10",
     "round(incorrectly_labeled_citizens/non_citizens*100, 1)": "10.0"
    }
   },
   "source": [
    "With a respondent error rate of {{error_rate}}, we would expect that {{incorrectly_labeled_citizens}} citizen would incorrectly identify themselves as a non-citizen. Given a sample size of {{non_citizens}}, we would expect that one incorrectly labeled citizen to have a high impact on any numbers extrapolated from the sample since they would account for {{round(incorrectly_labeled_citizens/non_citizens*100, 1)}}% of the entire non-citizen sample. We'll see just how big an impact that person has by calculating the expected illegal voter rate, and consequently the number of illegal votes, based solely on respondent error alone."
   ]
  },
  {
   "cell_type": "code",
   "execution_count": 13,
   "metadata": {
    "collapsed": true
   },
   "outputs": [],
   "source": [
    "illegal_voter_rate = incorrectly_labeled_citizens/non_citizens * citizen_voter_rate\n",
    "illegal_votes = total_non_citizens * illegal_voter_rate"
   ]
  },
  {
   "cell_type": "markdown",
   "metadata": {
    "variables": {
     "non_citizens": "10",
     "print(\"{0:.1f}\".format(illegal_votes/1000000))": "1.6",
     "round(citizen_voter_rate*100)": "71.0"
    }
   },
   "source": [
    "Making the assumption that only the citizens that were incorrectly labeled as non-citizens voted, and that they voted at the normal citizen voter rate of {{round(citizen_voter_rate*100)}}%, we were able to calculate the number of illegal votes we would expect to see based on respondent error and nothing more. Doing so gives us an estimate of around {{print(\"{0:.1f}\".format(illegal_votes/1000000))}} million illegal votes. \n",
    "\n",
    "If we then calculate the margin of error for our small sample of {{non_citizens}} non-citizens, we can calculate the confidence interval, or the range within which the actual number of illegal votes is likely to be found."
   ]
  },
  {
   "cell_type": "code",
   "execution_count": 14,
   "metadata": {
    "collapsed": true
   },
   "outputs": [],
   "source": [
    "moe_small_survey = margin_of_error(illegal_voter_rate, non_citizens)\n",
    "ci_small_survey_low = round((illegal_voter_rate - moe_small_survey) * total_non_citizens)\n",
    "ci_small_survey_high = round((illegal_voter_rate + moe_small_survey) * total_non_citizens)"
   ]
  },
  {
   "cell_type": "markdown",
   "metadata": {
    "variables": {
     "print(\"{0:.1f}\".format(ci_small_survey_high/1000000))": "5.3",
     "print(\"{0:.1f}\".format(ci_small_survey_low/1000000))": "-2.0",
     "print(\"{0:.1f}\".format(illegal_votes/1000000))": "1.6",
     "round(moe_small_survey*100, 1)": "15.9"
    }
   },
   "source": [
    "The small sample size gives us a relatively large margin of error of $\\pm${{round(moe_small_survey*100, 1)}}%. Using this margin of error to calculate a confidence interval, we get a range of between {{print(\"{0:.1f}\".format(ci_small_survey_low/1000000))}} and {{print(\"{0:.1f}\".format(ci_small_survey_high/1000000))}} million illegal votes cast. This is a huge range that dwarfs our initial estimate of {{print(\"{0:.1f}\".format(illegal_votes/1000000))}} million votes and essentially renders our estimate useless. Thus, it's easy to see how extrapolating population behavior from a low-frequency event in a small sample typically would not happen simply because the margin of error is too great.\n",
    "\n",
    "On the other hand, if we calculate the margin of error and confidence interval again using the larger sample size of 339 non-citizens that we saw in the 2008 survey, we get a much more acceptable margin of error."
   ]
  },
  {
   "cell_type": "code",
   "execution_count": 15,
   "metadata": {
    "collapsed": true
   },
   "outputs": [],
   "source": [
    "moe_large_survey = margin_of_error(illegal_voter_rate, 339)\n",
    "ci_large_survey_low = round((illegal_voter_rate - moe_large_survey) * total_non_citizens)\n",
    "ci_large_survey_high = round((illegal_voter_rate + moe_large_survey) * total_non_citizens)"
   ]
  },
  {
   "cell_type": "markdown",
   "metadata": {
    "variables": {
     "print(\"{0:.1f}\".format(ci_large_survey_high/1000000))": "2.3",
     "print(\"{0:.1f}\".format(ci_large_survey_low/1000000))": "1.0",
     "round(moe_large_survey*100, 1)": "2.7"
    }
   },
   "source": [
    "The larger sample size gives us a much smaller margin of error of $\\pm${{round(moe_large_survey*100, 1)}}%. Using this margin of error to calculate the new confidence interval, we get a range of between {{print(\"{0:.1f}\".format(ci_large_survey_low/1000000))}} and {{print(\"{0:.1f}\".format(ci_large_survey_high/1000000))}} million illegal votes cast. This is a much more reasonable range and it's easy to see how a researcher could be lulled into believing that they've just uncovered a significant finding in the data. However, as we've already seen, the danger with using findings from these low-frequency events to extrapolate behavior in the larger population is that these findings can be attributed solely to response error."
   ]
  },
  {
   "cell_type": "markdown",
   "metadata": {},
   "source": [
    "## Conclusion\n",
    "\n",
    "To recap, Trump has claimed, on several occasions, that not only did he win the electoral college vote, he also won the popular vote, if you discount all of the votes Hillary received from non-citizens residing within our borders. To the best of my knowledge, there are three main resources to which Trump has eluded that seem to support this claim. The first, is a bit of analysis performed by the non-profit VoteStand that declared that close to 3 million non-citizens voted on behalf of Hillary in this past election, but to date this analysis has not been seen by anyone outside of the company. The second piece of evidence is a Pew Research study that investigated issues with the current voter registration system and found evidence of millions of invalid voter registrations, but found no evidence that voter fraud occurred as a result. The third, and most interesting resource was a peer-reviewed paper from several political scientists with the Old Dominion University. In this paper, the authors used data from two different large sample surveys to extrapolate the number of possible illegal voters to be in the millions. The conclusions of this paper, however, have been disputed, by the original authors of the surveys, as being possibly a result of response error in the survey data. In addtion, even if the results of the paper are correct, the original author of the paper has subsequently claimed that the expected numbers would still fall far short of the numbers needed for a Trump win of the popular vote. \n",
    "\n",
    "In short, there is currently no evidence that supports Trump's claim that illegal voting activity cost him the popular vote. I'm sorry Mr. President, but it looks like you're just wrong on this one."
   ]
  },
  {
   "cell_type": "code",
   "execution_count": 16,
   "metadata": {},
   "outputs": [
    {
     "data": {
      "text/html": [
       "<script async src=\"//platform.twitter.com/widgets.js\" charset=\"utf-8\"></script>"
      ],
      "text/plain": [
       "<IPython.core.display.HTML object>"
      ]
     },
     "metadata": {},
     "output_type": "display_data"
    }
   ],
   "source": [
    "%%HTML\n",
    "<script async src=\"//platform.twitter.com/widgets.js\" charset=\"utf-8\"></script>"
   ]
  }
 ],
 "metadata": {
  "anaconda-cloud": {},
  "kernelspec": {
   "display_name": "Python [conda env:blog_py3]",
   "language": "python",
   "name": "conda-env-blog_py3-py"
  },
  "language_info": {
   "codemirror_mode": {
    "name": "ipython",
    "version": 3
   },
   "file_extension": ".py",
   "mimetype": "text/x-python",
   "name": "python",
   "nbconvert_exporter": "python",
   "pygments_lexer": "ipython3",
   "version": "3.5.2"
  }
 },
 "nbformat": 4,
 "nbformat_minor": 2
}
